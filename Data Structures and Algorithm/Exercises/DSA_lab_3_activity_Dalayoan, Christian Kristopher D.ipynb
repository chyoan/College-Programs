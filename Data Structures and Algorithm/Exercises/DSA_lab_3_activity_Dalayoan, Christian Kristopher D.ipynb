{
 "cells": [
  {
   "cell_type": "markdown",
   "metadata": {},
   "source": [
    "# Object Oriented Programming\n",
    "## Laboratory Exercise \n",
    "Deadline: 11:59pm Oct 8, 2024\n",
    "\n",
    "upload you this file together with your answer, the filename should be DSA_Lab3_exercise<name_and_section>.ipynb\n",
    "\n",
    "upload to https://docs.google.com/forms/d/e/1FAIpQLSdbYz8nlwvYws-ukmS2CcJE6YGgJxpD2y0tVvAxfyz-_pV4mg/viewform?usp=pp_url\n"
   ]
  },
  {
   "cell_type": "markdown",
   "metadata": {},
   "source": [
    "\n",
    "\n"
   ]
  },
  {
   "cell_type": "markdown",
   "metadata": {},
   "source": []
  },
  {
   "cell_type": "code",
   "execution_count": null,
   "metadata": {},
   "outputs": [],
   "source": []
  },
  {
   "cell_type": "markdown",
   "metadata": {},
   "source": [
    "## Lab exercise 1\n",
    "\n",
    "from a given list of integers, create a new list using comprehension that will compute the square of odd integer elements.\n",
    "\n",
    "sample calls\n",
    "\n",
    "[2,4,3] == [9]\n",
    "[0,0,1,1] == [1,1]\n"
   ]
  },
  {
   "cell_type": "code",
   "execution_count": 2,
   "metadata": {},
   "outputs": [
    {
     "name": "stdout",
     "output_type": "stream",
     "text": [
      "[9]\n",
      "[1, 1]\n"
     ]
    }
   ],
   "source": [
    "def square_of_odd_integers(lst):\n",
    "    return [x*x for x in lst if x % 2 != 0]\n",
    "\n",
    "print(square_of_odd_integers([2,4,3]))\n",
    "print(square_of_odd_integers([0,0,1,1]))"
   ]
  },
  {
   "cell_type": "code",
   "execution_count": null,
   "metadata": {
    "vscode": {
     "languageId": "latex"
    }
   },
   "outputs": [],
   "source": [
    "## Lab exercise 2\n",
    "\n",
    "Using comprehension,create a new list of tuples from two given lists:\n",
    "\n",
    "### sample calls\n",
    "\n",
    "list1[1,2,3]\n",
    "list2[\"mark\",\"alice\",\"john]\n",
    "\n",
    "result: listOfTuple[(1,\"mark\"),(2,\"alice\"),(3,\"john\")] "
   ]
  },
  {
   "cell_type": "code",
   "execution_count": 5,
   "metadata": {},
   "outputs": [
    {
     "name": "stdout",
     "output_type": "stream",
     "text": [
      "[(1, 'mark'), (2, 'alice'), (3, 'john')]\n"
     ]
    }
   ],
   "source": [
    "def create_tuple(lst1, lst2):\n",
    "    return [(x,y) for x, y in zip(lst1, lst2)]\n",
    "\n",
    "list1 = [1,2,3]\n",
    "list2 = [\"mark\", \"alice\", \"john\"]\n",
    "\n",
    "print(create_tuple(list1, list2))"
   ]
  },
  {
   "cell_type": "markdown",
   "metadata": {},
   "source": [
    "\n"
   ]
  },
  {
   "cell_type": "markdown",
   "metadata": {},
   "source": [
    "## Lab exercise 3\n",
    "### Provide a list comprehension that implementation for a function called vowelsToUpper with the following signature:\n",
    "\n",
    "method name : vowelsToUpper\n",
    "\n",
    "input argument : String \n",
    "\n",
    "return argument : String\n",
    "\n",
    "vowelsToUpper must return a version of its String argument with all its vowels changed to their uppercase forms. Nonvowel characters stay as is.\n",
    "\n",
    "### Sample Calls\n",
    "\n",
    "vowelsToUpper \"\" == \"\"\n",
    "\n",
    "vowelsToUpper \"Hello, world!\" == \"HEllO, wOrld!\"\n",
    "\n",
    "vowelsToUpper \"hello hi bye\" == \"hEllO hI byE\""
   ]
  },
  {
   "cell_type": "code",
   "execution_count": 12,
   "metadata": {},
   "outputs": [
    {
     "name": "stdout",
     "output_type": "stream",
     "text": [
      "HEllO, wOrld!\n",
      "hEllO hI byE\n"
     ]
    }
   ],
   "source": [
    "def vowelsToUpper(string):\n",
    "    vowels = \"aeiou\"\n",
    "    return \"\".join([ch.upper() if ch in vowels else ch for ch in string])\n",
    "\n",
    "print(vowelsToUpper(\"Hello, world!\"))\n",
    "print(vowelsToUpper(\"hello hi bye\"))"
   ]
  }
 ],
 "metadata": {
  "kernelspec": {
   "display_name": "Python 3",
   "language": "python",
   "name": "python3"
  },
  "language_info": {
   "codemirror_mode": {
    "name": "ipython",
    "version": 3
   },
   "file_extension": ".py",
   "mimetype": "text/x-python",
   "name": "python",
   "nbconvert_exporter": "python",
   "pygments_lexer": "ipython3",
   "version": "3.12.4"
  }
 },
 "nbformat": 4,
 "nbformat_minor": 2
}
